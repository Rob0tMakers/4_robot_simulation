{
 "cells": [
  {
   "cell_type": "code",
   "execution_count": 1,
   "metadata": {
    "scrolled": true
   },
   "outputs": [],
   "source": [
    "import shapely\n",
    "from shapely.geometry import LinearRing, LineString, Point\n",
    "from numpy import sin, cos, pi, sqrt\n",
    "from random import random\n",
    "\n",
    "import numpy as np\n",
    "from matplotlib import pyplot as plt"
   ]
  },
  {
   "cell_type": "markdown",
   "metadata": {},
   "source": [
    "# Constants"
   ]
  },
  {
   "cell_type": "code",
   "execution_count": 2,
   "metadata": {},
   "outputs": [],
   "source": [
    "# arena measurements\n",
    "\n",
    "R = 0.021  # radius of wheels in meters\n",
    "L = 0.094  # distance between wheels in meters\n",
    "\n",
    "W = 1.18  # width of arena\n",
    "H = 1.94  # height of arena\n",
    "margin = 0.05 # offset position of robot from wall\n",
    "\n",
    "# floor/ceil coordinates for particle distribution\n",
    "x_floor = -W/2 + margin\n",
    "x_ceil = W/2 - margin\n",
    "y_floor = -H/2 + margin\n",
    "y_ceil = H/2 - margin\n",
    "\n",
    "# range for particle distribution\n",
    "range_x = W - 2 * margin\n",
    "range_y = H - 2 * margin\n",
    "\n",
    "# the world is a rectangular arena with width W and height H\n",
    "world = LinearRing([(W/2,H/2),(-W/2,H/2),(-W/2,-H/2),(W/2,-H/2)])"
   ]
  },
  {
   "cell_type": "markdown",
   "metadata": {},
   "source": [
    "### This is the color coding for camera detection output:\n",
    "\n",
    "    0   => nothing\n",
    "    1   => red\n",
    "    1.5 => red/green \n",
    "    2   => green\n",
    "    2.5 => green/blue\n",
    "    3   => blue\n",
    "    3.5 => blue/yellow\n",
    "    4   => yellow\n",
    "    4.5 => yellow/red"
   ]
  },
  {
   "cell_type": "markdown",
   "metadata": {},
   "source": [
    "# Functions"
   ]
  },
  {
   "cell_type": "code",
   "execution_count": 3,
   "metadata": {},
   "outputs": [],
   "source": [
    "# converts degrees to radians\n",
    "def dtr(deg):\n",
    "    return deg * (np.pi / 180)"
   ]
  },
  {
   "cell_type": "code",
   "execution_count": 4,
   "metadata": {},
   "outputs": [],
   "source": [
    "# this function simulates our camera by returning an integer representing the combination of corners\n",
    "# that are currently visible in the view field of the camera\n",
    "\n",
    "def simulateCamera(x, y, q):\n",
    "    \n",
    "    # two lines drawn with shapely\n",
    "    # NOTE: radians = 0 on the x-axis and goes counter-clockwise from there\n",
    "    camera_fov_left = LineString([(x, y), (x+cos(q+dtr(62.2))*2*W,(y+sin(q+dtr(62.2))*2*H)) ])\n",
    "    camera_fov_right = LineString([(x, y), (x+cos(q-dtr(62.2))*2*W,(y+sin(q-dtr(62.2))*2*H)) ])\n",
    "    \n",
    "    # array of camera rays\n",
    "    camera_rays = [camera_fov_left, camera_fov_right]\n",
    "\n",
    "    # these constants represent the x/y coords of our maps walls\n",
    "    left_x = -(W/2)\n",
    "    right_x = W/2\n",
    "    top_y = H/2\n",
    "    bot_y = -(H/2)\n",
    "    \n",
    "    detected = []\n",
    "    \n",
    "    # loop over the two rays (left and right border of field-of-view)\n",
    "    for ray in camera_rays:\n",
    "        s = world.intersection(ray)\n",
    "        \n",
    "        # Going clockwise starting with top wall == case 1\n",
    "        # we have 8 cases of hitting one of the four walls or one of the corners four directly.\n",
    "        \n",
    "        \n",
    "        # top right corner\n",
    "        if s.x == right_x and s.y == top_y:\n",
    "            detected.append(2)\n",
    "        # bot right corner\n",
    "        elif s.x == right_x and s.y == bot_y:\n",
    "            detected.append(4)\n",
    "        # bot left corner\n",
    "        elif s.x == left_x and s.y == bot_y:\n",
    "            detected.append(6)\n",
    "        # top left corner\n",
    "        elif s.x == left_x and s.y == top_y:\n",
    "            detected.append(8)      \n",
    "        # top wall\n",
    "        elif s.y == top_y:\n",
    "            detected.append(1)\n",
    "        # right wall\n",
    "        elif s.x == right_x:\n",
    "            detected.append(3)\n",
    "        # bot wall\n",
    "        elif s.y == bot_y:\n",
    "            detected.append(5)\n",
    "        # left wall\n",
    "        elif s.x == left_x:\n",
    "            detected.append(7)\n",
    "        \n",
    "    \n",
    "    # hacky trick: we use a tuple here to be able to do array comparison\n",
    "    # note: the order matters, detect[0] = left border, detect[1] = right border\n",
    "    detect = (detected[0], detected[1])\n",
    "    \n",
    "    if detect == (1,1) or detect == (3,3) or detect == (5,5) or detect == (7,7):\n",
    "        return 0\n",
    "    elif detect == (1,2) or detect == (1,3) or detect == (2,3):\n",
    "        return 1\n",
    "    elif detect == (1,5):\n",
    "        return 1.5\n",
    "    elif detect == (3,4) or detect == (3,5) or detect == (4,5):\n",
    "        return 2\n",
    "    elif detect == (3,7):\n",
    "        return 2.5\n",
    "    elif detect == (5,6) or detect == (5,7) or detect == (6,7):\n",
    "        return 3\n",
    "    elif detect == (5,1):\n",
    "        return 3.5\n",
    "    elif detect == (7,8) or detect == (7,1) or detect == (8,1):\n",
    "        return 4\n",
    "    elif detect == (7,3):\n",
    "        return 4.5\n",
    "    else:\n",
    "        raise ValueError('Camera values out of bounds. This case should never happen.')"
   ]
  },
  {
   "cell_type": "code",
   "execution_count": 5,
   "metadata": {},
   "outputs": [],
   "source": [
    "# this function returns a normal distributed array of view angles (q), based on camera input\n",
    "# the reason why \"right\" is q = 0, is because Casper's simulation was built that way\n",
    "# IMPORTANT: only call this function, when camera_int != 0. The camera has to report something, otherwise spin robot until it does.\n",
    "\n",
    "def distributeViewAngles(camera_int):\n",
    "    view_angle = 0 # this is the direction where the robot camera and lidar[0] are facing => 0 >> right (default)\n",
    "    spread = 20 # this is the std. deviation \n",
    "    \n",
    "    # case red >> top right corner\n",
    "    if camera_int == 1:\n",
    "        view_angle = 45\n",
    "\n",
    "    # case red/green >> right\n",
    "    if camera_int == 1.5:\n",
    "        view_angle = 0\n",
    "    \n",
    "    # case green >> bottom right corner\n",
    "    if camera_int == 2:\n",
    "        view_angle = 315\n",
    "        \n",
    "    # case green/blue >> bottom\n",
    "    if camera_int == 2.5:\n",
    "        view_angle = 270\n",
    "\n",
    "    # case blue >> bottom left corner\n",
    "    if camera_int == 3:\n",
    "        view_angle = 225\n",
    "    \n",
    "    # case blue/yellow >> left\n",
    "    if camera_int == 3.5:\n",
    "        view_angle = 180\n",
    "        \n",
    "    # case yellow >> top left corner\n",
    "    if camera_int == 4:\n",
    "        view_angle = 135\n",
    "        \n",
    "    # case yellow/red >> top\n",
    "    if camera_int == 4.5:\n",
    "        view_angle = 90\n",
    "        \n",
    "    return dtr(np.random.normal(view_angle, spread, (100, 1)))"
   ]
  },
  {
   "cell_type": "code",
   "execution_count": 6,
   "metadata": {},
   "outputs": [],
   "source": [
    "# this is a wrapper and control function to determine if particles should be spawned fresh or resampled\n",
    "\n",
    "def placeParticles(x, y, camera_int, toggle=0):\n",
    "    if toggle == 0:\n",
    "        return spawnParticles(camera_int)\n",
    "    else:\n",
    "        return resampleParticles(x, y, camera_int)"
   ]
  },
  {
   "cell_type": "code",
   "execution_count": 7,
   "metadata": {
    "scrolled": true
   },
   "outputs": [],
   "source": [
    "# this function does the initial particle placement, random spread across the whole map (minus a small margin)\n",
    "# calls distributeViewAngles for normal distribution of q\n",
    "\n",
    "def spawnParticles(camera_int):\n",
    "    start_x = x_floor\n",
    "    start_y = y_ceil\n",
    "    \n",
    "    random_values = np.random.rand(100, 2)\n",
    "    \n",
    "    calc_pos_x = np.vectorize(lambda x: start_x + range_x * x)\n",
    "    calc_pos_y = np.vectorize(lambda y: start_y - range_y * y)\n",
    "    \n",
    "    x_col = calc_pos_x(random_values[:,:1])\n",
    "    y_col = calc_pos_y(random_values[:,1:2])\n",
    "    \n",
    "    q_col = distributeViewAngles(camera_int)\n",
    "\n",
    "    particles = np.concatenate((x_col, y_col, q_col), axis=1)\n",
    "    return particles"
   ]
  },
  {
   "cell_type": "code",
   "execution_count": 8,
   "metadata": {},
   "outputs": [],
   "source": [
    "# this function returns a normal distributed array of particles based on the previous location approximation\n",
    "\n",
    "def resampleParticles(x, y, camera_int):\n",
    "    x_col = np.clip(np.random.normal(x, 0.1, (100, 1)), x_floor, x_ceil)\n",
    "    y_col = np.clip(np.random.normal(y, 0.1, (100, 1)), y_floor, y_ceil)\n",
    "    \n",
    "    q_col = distributeViewAngles(camera_int)\n",
    "    \n",
    "    return np.concatenate((x_col, y_col, q_col), axis=1)"
   ]
  },
  {
   "cell_type": "code",
   "execution_count": 9,
   "metadata": {},
   "outputs": [],
   "source": [
    "# this utility functions allows application of simulateParticleLidar() to a matrix, using matrix operations\n",
    "# it is a wrapper function for simulateParticleLidar()\n",
    "# takes an array [x, y, q] as input\n",
    "\n",
    "def rollLinewise(vector):\n",
    "    rangeMat = np.arange(8).reshape((8,1))\n",
    "    \n",
    "    laserMat = np.array([vector,]*8)\n",
    "    \n",
    "    joinMat = np.concatenate((laserMat, rangeMat), axis=1)\n",
    "    \n",
    "    return np.apply_along_axis(simulateParticleLidar, 1, joinMat)"
   ]
  },
  {
   "cell_type": "code",
   "execution_count": 10,
   "metadata": {},
   "outputs": [],
   "source": [
    "# this function returns an array of 8 lidar measurements with a step of 45 degrees\n",
    "# takes a matrix of [[x, y, q, i], ... ] as input, where i is a multiplicator for 45 degrees\n",
    "\n",
    "def simulateParticleLidar(mat):\n",
    "    line = LineString([(mat[0], mat[1]), (mat[0]+cos(mat[2]+dtr(mat[3]*45))*2*W,(mat[1]+sin(mat[2]+dtr(mat[3]*45))*2*H))])\n",
    "    s = world.intersection(line)\n",
    "    distance = sqrt((s.x-mat[0])**2+(s.y-mat[1])**2)\n",
    "    \n",
    "    return distance"
   ]
  },
  {
   "cell_type": "code",
   "execution_count": 11,
   "metadata": {},
   "outputs": [],
   "source": [
    "# this function returns the index of lidar measurement with the lowest delta (sum across all angles)\n",
    "\n",
    "def getFittestIndex(robot_lidar, particles_lidar):\n",
    "    delta = np.absolute(particles_lidar - robot_lidar)\n",
    "    sum_delta = np.apply_along_axis(np.sum, 1, delta)\n",
    "    return np.argmin(sum_delta)"
   ]
  },
  {
   "cell_type": "markdown",
   "metadata": {},
   "source": [
    "## Simulation"
   ]
  },
  {
   "cell_type": "code",
   "execution_count": 12,
   "metadata": {},
   "outputs": [],
   "source": [
    "# Constants simulation\n",
    "\n",
    "robot_timestep = 0.1        # 1/robot_timestep equals update frequency of robot\n",
    "simulation_timestep = 0.01  # timestep in kinematics sim (probably don't touch..)\n",
    "\n",
    "# Variables robot\n",
    "###########\n",
    "\n",
    "x = 0   # robot position in meters - x direction - positive to the right \n",
    "y = 0   # robot position in meters - y direction - positive up\n",
    "q = 0.0   # robot heading with respect to x-axis in radians\n",
    "\n",
    "left_wheel_velocity = random()   # robot left wheel velocity in radians/s\n",
    "right_wheel_velocity = random()  # robot right wheel velocity in radians/s\n",
    "\n",
    "# Sensor measurements\n",
    "##################\n",
    "\n",
    "# central sensor: robot starts 80mm in front 0.008\n",
    "# side sensors: robot starts 78mm in front 0.0078\n",
    "\n",
    "# Kinematic model\n",
    "#################\n",
    "# updates robot position and heading based on velocity of wheels and the elapsed time\n",
    "# the equations are a forward kinematic model of a two-wheeled robot - don't worry just use it\n",
    "def simulationstep():\n",
    "    global x, y, q\n",
    "    \n",
    "    for step in range(int(robot_timestep/simulation_timestep)):     #step model time/timestep times\n",
    "        v_x = cos(q)*(R*left_wheel_velocity/2 + R*right_wheel_velocity/2) \n",
    "        v_y = sin(q)*(R*left_wheel_velocity/2 + R*right_wheel_velocity/2)\n",
    "        omega = (R*right_wheel_velocity - R*left_wheel_velocity)/(2*L)    \n",
    "    \n",
    "        x += v_x * simulation_timestep\n",
    "        y += v_y * simulation_timestep\n",
    "        q += omega * simulation_timestep\n",
    "\n",
    "# Simulation loop\n",
    "#################\n",
    "file = open(\"trajectory.dat\", \"w\")\n",
    "file2 = open(\"approximate.dat\", \"w\")\n",
    "\n",
    "for cnt in range(10000):\n",
    "    \n",
    "    toggle = 0 # toggling between random sampling and gaussian sampling\n",
    "    \n",
    "    robot = np.array([x, y, q])\n",
    "    \n",
    "    camera_output = simulateCamera(x, y, q)\n",
    "    \n",
    "    # this array contains the distances to the walls, simulating our lidar laser range finder's output\n",
    "    robot_lidar = rollLinewise(robot)\n",
    "    \n",
    "    # making sure that our robot does not go closer to the walls than the indicated margin\n",
    "    min_distance = margin\n",
    "    \n",
    "    # array of boolans\n",
    "    is_below_threshold = robot_lidar < min_distance\n",
    "    \n",
    "    # ROBOT CONTROL STATEMENTS BELOW\n",
    "    \n",
    "    if camera_output == 0: # turn right, if the camera does not have a view on a corner\n",
    "        left_wheel_velocity = +0.4 \n",
    "        right_wheel_velocity = -0.4\n",
    "        \n",
    "    elif np.any(is_below_threshold):\n",
    "        \n",
    "        # first index of lidar, where distance < threshold\n",
    "        lidar_index = np.where(is_below_threshold == True)[0][0]\n",
    "\n",
    "        # if we hit a lidar on the right [i <= 3], we go left! if we hit a lidar on the left [i > 3], we go right!\n",
    "        # goes left when hit straight and right, when hit in the back (virtually never occurs)\n",
    "        \n",
    "        if lidar_index <= 3: # Obstacle to left (or straight). turn right\n",
    "            left_wheel_velocity = +0.8 \n",
    "            right_wheel_velocity = -0.8\n",
    "            \n",
    "        if lidar_index > 3: # obstacle to the right (or back). turn left\n",
    "            left_wheel_velocity = -0.8\n",
    "            right_wheel_velocity = +0.8\n",
    "        \n",
    "    else:\n",
    "        if cnt%100==0:\n",
    "            speed = random()\n",
    "        \n",
    "            left_wheel_velocity = speed\n",
    "            right_wheel_velocity = speed\n",
    "        \n",
    "    #step simulation\n",
    "    simulationstep()\n",
    "\n",
    "    #check collision with arena walls \n",
    "    if (world.distance(Point(x,y))<L/2):\n",
    "        break\n",
    "        \n",
    "    if cnt%50==0 and camera_output != 0:\n",
    "        \n",
    "        # matrix contains [[x, y, q], ...]\n",
    "        particles = placeParticles(x, y, camera_output, toggle)\n",
    "        toggle += 1\n",
    "        \n",
    "        # this array contains the distances to the walls, simulating our lidar laser range finder's output\n",
    "        particles_lidar = np.apply_along_axis(rollLinewise, 1, particles)\n",
    "        \n",
    "        # delta matrix [[0, 1, 2, 3, 4, 5, 6, 7], ...] n=100\n",
    "        delta = np.absolute(particles_lidar - robot_lidar)\n",
    "        \n",
    "        # delta array [0, 1, 2, ...] n=100\n",
    "        sum_delta = np.apply_along_axis(np.sum, 1, delta)\n",
    "        \n",
    "        # lowest delta index\n",
    "        delta_min_i = np.argmin(sum_delta)\n",
    "\n",
    "        # if sum_delta[delta_min_i] > 1.5:\n",
    "        #    toggle = 0\n",
    "        \n",
    "        # location approximation [x, y, q]\n",
    "        approx = particles[delta_min_i]\n",
    "        \n",
    "        \n",
    "        # ATTN: CHANGE LAST TWO VALUES IF WE MOVE UP TO FIVE SENSORS. CODE WILL NOT WORK\n",
    "        file.write( str(x) + \", \" + str(y) + \", \" + str(cos(q)*0.05) + \", \" + str(sin(q)*0.05) + \"\\n\")\n",
    "        file2.write( str(approx[0]) + \", \" + str(approx[1]) + \", \" + str(cos(approx[2])*0.05) + \", \" + str(sin(approx[2])*0.05) + \"\\n\")\n",
    "\n",
    "file.close()\n",
    "file2.close()"
   ]
  },
  {
   "cell_type": "markdown",
   "metadata": {},
   "source": [
    "## Plotting"
   ]
  },
  {
   "cell_type": "code",
   "execution_count": 13,
   "metadata": {
    "scrolled": false
   },
   "outputs": [],
   "source": [
    "# load data from file into numpy\n",
    "data = np.loadtxt(\"trajectory.dat\", delimiter=\", \")\n",
    "data2 = np.loadtxt(\"approximate.dat\", delimiter=\", \")"
   ]
  },
  {
   "cell_type": "code",
   "execution_count": 14,
   "metadata": {},
   "outputs": [],
   "source": [
    "def plotTrajectory(data):\n",
    "    f, ax = plt.subplots(1,1, figsize=(W*5,H*5))\n",
    "    ax.set_xlim(-W/2, W/2)\n",
    "    ax.set_ylim(-H/2, H/2)\n",
    "    \n",
    "    ax.quiver(data[:,0], data[:,1], data[:,2], data[:,3])\n",
    "    \n",
    "    plt.show()   "
   ]
  },
  {
   "cell_type": "code",
   "execution_count": 15,
   "metadata": {},
   "outputs": [],
   "source": [
    "def plotTrajectoryByIndex(data, data2, i, end=1):\n",
    "    j = i + end # optional parameter to plot a slice of the array (or just one row by default)\n",
    "    \n",
    "    f, ax = plt.subplots(1,1, figsize=(W*5,H*5))\n",
    "    ax.set_xlim(-W/2, W/2)\n",
    "    ax.set_ylim(-H/2, H/2)\n",
    "    \n",
    "    ax.quiver(data[i:j,0], data[i:j,1], data[i:j,2], data[i:j,3])\n",
    "    ax.quiver(data2[i:j,0], data2[i:j,1], data2[i:j,2], data2[i:j,3], color=\"red\")\n",
    "    \n",
    "    plt.show()  "
   ]
  },
  {
   "cell_type": "code",
   "execution_count": 16,
   "metadata": {},
   "outputs": [
    {
     "data": {
      "image/png": "[encoded data removed]",
      "text/plain": [
       "<Figure size 424.8x698.4 with 1 Axes>"
      ]
     },
     "metadata": {
      "needs_background": "light"
     },
     "output_type": "display_data"
    }
   ],
   "source": [
    "plotTrajectory(data)"
   ]
  },
  {
   "cell_type": "code",
   "execution_count": 17,
   "metadata": {},
   "outputs": [
    {
     "data": {
      "image/png": "[encoded data removed]",
      "text/plain": [
       "<Figure size 424.8x698.4 with 1 Axes>"
      ]
     },
     "metadata": {
      "needs_background": "light"
     },
     "output_type": "display_data"
    }
   ],
   "source": [
    "plotTrajectory(data2)"
   ]
  },
  {
   "cell_type": "code",
   "execution_count": 18,
   "metadata": {},
   "outputs": [
    {
     "data": {
      "image/png": "[encoded data removed]",
      "text/plain": [
       "<Figure size 424.8x698.4 with 1 Axes>"
      ]
     },
     "metadata": {
      "needs_background": "light"
     },
     "output_type": "display_data"
    }
   ],
   "source": [
    "plotTrajectoryByIndex(data, data2, 10)"
   ]
  },
  {
   "cell_type": "code",
   "execution_count": null,
   "metadata": {},
   "outputs": [],
   "source": []
  }
 ],
 "metadata": {
  "kernelspec": {
   "display_name": "Python 3",
   "language": "python",
   "name": "python3"
  },
  "language_info": {
   "codemirror_mode": {
    "name": "ipython",
    "version": 3
   },
   "file_extension": ".py",
   "mimetype": "text/x-python",
   "name": "python",
   "nbconvert_exporter": "python",
   "pygments_lexer": "ipython3",
   "version": "3.7.4"
  }
 },
 "nbformat": 4,
 "nbformat_minor": 4
}
