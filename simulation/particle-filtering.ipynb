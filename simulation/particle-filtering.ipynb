{
 "cells": [
  {
   "cell_type": "code",
   "execution_count": 317,
   "metadata": {
    "scrolled": true
   },
   "outputs": [],
   "source": [
    "import shapely\n",
    "from shapely.geometry import LinearRing, LineString, Point\n",
    "from numpy import sin, cos, pi, sqrt\n",
    "from random import random\n",
    "\n",
    "import numpy as np\n",
    "from matplotlib import pyplot as plt"
   ]
  },
  {
   "cell_type": "markdown",
   "metadata": {},
   "source": [
    "# Constants"
   ]
  },
  {
   "cell_type": "code",
   "execution_count": 318,
   "metadata": {},
   "outputs": [],
   "source": [
    "# arena measurements\n",
    "\n",
    "R = 0.021  # radius of wheels in meters\n",
    "L = 0.094  # distance between wheels in meters\n",
    "\n",
    "W = 1.18  # width of arena\n",
    "H = 1.94  # height of arena\n",
    "margin = 0.05 # offset position of robot from wall\n",
    "\n",
    "# floor/ceil coordinates for particle distribution\n",
    "x_floor = -W/2 + margin\n",
    "x_ceil = W/2 - margin\n",
    "y_floor = -H/2 + margin\n",
    "y_ceil = H/2 - margin\n",
    "\n",
    "# range for particle distribution\n",
    "range_x = W - 2 * margin\n",
    "range_y = H - 2 * margin\n",
    "\n",
    "# the world is a rectangular arena with width W and height H\n",
    "world = LinearRing([(W/2,H/2),(-W/2,H/2),(-W/2,-H/2),(W/2,-H/2)])"
   ]
  },
  {
   "cell_type": "markdown",
   "metadata": {},
   "source": [
    "### This is the color coding for camera detection output:\n",
    "\n",
    "    0   => nothing\n",
    "    1   => red\n",
    "    1.5 => red/green \n",
    "    2   => green\n",
    "    2.5 => green/blue\n",
    "    3   => blue\n",
    "    3.5 => blue/yellow\n",
    "    4   => yellow\n",
    "    4.5 => yellow/red"
   ]
  },
  {
   "cell_type": "markdown",
   "metadata": {},
   "source": [
    "# Functions"
   ]
  },
  {
   "cell_type": "code",
   "execution_count": 319,
   "metadata": {},
   "outputs": [],
   "source": [
    "# converts degrees to radians\n",
    "def dtr(deg):\n",
    "    return deg * (np.pi / 180)"
   ]
  },
  {
   "cell_type": "code",
   "execution_count": 320,
   "metadata": {},
   "outputs": [],
   "source": [
    "# this function returns a normal distributed array of view angles (q), based on camera input\n",
    "# the reason why \"right\" is q = 0, is because Casper's simulation was built that way\n",
    "# IMPORTANT: only call this function, when camera_int != 0. The camera has to report something, otherwise spin robot until it does.\n",
    "\n",
    "def distributeViewAngles(camera_int):\n",
    "    view_angle = 360 # this is the direction where the robot camera and lidar[0] are facing => 360 >> right (default)\n",
    "    spread = 10 # this is the std. deviation \n",
    "    \n",
    "    # case red >> top right corner\n",
    "    if camera_int == 1:\n",
    "        view_angle = 315\n",
    "\n",
    "    # case red/green >> right\n",
    "    if camera_int == 1.5:\n",
    "        view_angle = 360\n",
    "    \n",
    "    # case green >> bottom right corner\n",
    "    if camera_int == 2:\n",
    "        view_angle = 45\n",
    "        \n",
    "    # case green/blue >> bottom\n",
    "    if camera_int == 2.5:\n",
    "        view_angle = 90\n",
    "\n",
    "    # case blue >> bottom left corner\n",
    "    if camera_int == 3:\n",
    "        view_angle = 135\n",
    "    \n",
    "    # case blue/yellow >> left\n",
    "    if camera_int == 3.5:\n",
    "        view_angle = 180\n",
    "        \n",
    "    # case yellow >> top left corner\n",
    "    if camera_int == 4:\n",
    "        view_angle = 225\n",
    "        \n",
    "    # case yellow/red >> top\n",
    "    if camera_int == 4.5:\n",
    "        view_angle = 270\n",
    "        \n",
    "    return dtr(np.clip(np.random.normal(view_angle, spread, (100, 1)), a_min=0, a_max=None))"
   ]
  },
  {
   "cell_type": "code",
   "execution_count": 321,
   "metadata": {
    "scrolled": true
   },
   "outputs": [],
   "source": [
    "# this function does the initial particle placement, random spread across the whole map (minus a small margin)\n",
    "# calls distributeViewAngles for normal distribution of q\n",
    "\n",
    "def placeParticles(camera_int):\n",
    "    start_x = x_floor\n",
    "    start_y = y_ceil\n",
    "    \n",
    "    random_values = np.random.rand(100, 2)\n",
    "    \n",
    "    calc_pos_x = np.vectorize(lambda x: start_x + range_x * x)\n",
    "    calc_pos_y = np.vectorize(lambda y: start_y - range_y * y)\n",
    "    \n",
    "    x_col = calc_pos_x(random_values[:,:1])\n",
    "    y_col = calc_pos_y(random_values[:,1:2])\n",
    "    \n",
    "    q_col = distributeViewAngles(camera_int)\n",
    "\n",
    "    particles = np.concatenate((x_col, y_col, q_col), axis=1)\n",
    "    return particles"
   ]
  },
  {
   "cell_type": "code",
   "execution_count": 322,
   "metadata": {},
   "outputs": [],
   "source": [
    "# this function returns a normal distributed array of particles based on the previous location approximation\n",
    "\n",
    "def resampleParticles(x, y, camera_int):\n",
    "    x_col = np.clip(np.random.normal(x, 0.1, (100, 1)), x_floor, x_ceil)\n",
    "    y_col = np.clip(np.random.normal(y, 0.1, (100, 1)), y_floor, y_ceil)\n",
    "    \n",
    "    q_col = distributeViewAngles(camera_int)\n",
    "    \n",
    "    return np.concatenate((x_col, y_col, q_col), axis=1)"
   ]
  },
  {
   "cell_type": "code",
   "execution_count": 323,
   "metadata": {},
   "outputs": [],
   "source": [
    "# this function returns the index of lidar measurement with the lowest delta (sum across all angles)\n",
    "\n",
    "def getFittestIndex(robot_coords, particles_coords):\n",
    "    delta = np.absolute(particle_coords - robot_coords)\n",
    "    sum_delta = np.apply_along_axis(np.sum, 1, delta)\n",
    "    return np.argmin(sum_delta)"
   ]
  },
  {
   "cell_type": "code",
   "execution_count": 324,
   "metadata": {},
   "outputs": [],
   "source": [
    "# this function returns an array of 8 lidar measurements with a step of 45 degrees\n",
    "# takes a matrix of [[x, y, q, i], ... ] as input, where i is a multiplicator for 45 degrees\n",
    "\n",
    "def simulateParticleLidar(mat):\n",
    "    line = LineString([(mat[0], mat[1]), (mat[0]+cos(mat[2]+dtr(mat[3]*45))*2*W,(mat[1]+sin(mat[2]+dtr(mat[3]*45))*2*H))])\n",
    "    s = world.intersection(line)\n",
    "    distance = sqrt((s.x-mat[0])**2+(s.y-mat[1])**2)\n",
    "    \n",
    "    return distance"
   ]
  },
  {
   "cell_type": "code",
   "execution_count": 325,
   "metadata": {},
   "outputs": [],
   "source": [
    "# this utility functions allows application of simulateParticleLidar() to a matrix, using matrix operations\n",
    "# it is a wrapper function for simulateParticleLidar()\n",
    "# takes an array [x, y, q] as input\n",
    "\n",
    "def rollLinewise(vector):\n",
    "    rangeMat = np.arange(8).reshape((8,1))\n",
    "    \n",
    "    laserMat = np.array([vector,]*8)\n",
    "    \n",
    "    joinMat = np.concatenate((laserMat, rangeMat), axis=1)\n",
    "    \n",
    "    return np.apply_along_axis(simulateParticleLidar, 1, joinMat)"
   ]
  },
  {
   "cell_type": "markdown",
   "metadata": {},
   "source": [
    "### Testing lidar and particle simulator"
   ]
  },
  {
   "cell_type": "code",
   "execution_count": 337,
   "metadata": {
    "scrolled": true
   },
   "outputs": [
    {
     "name": "stdout",
     "output_type": "stream",
     "text": [
      "[[-3.27927466e-01 -8.90719316e-01  2.37947371e+00]\n",
      " [-2.34408772e-01  1.84385610e-01  2.27424889e+00]\n",
      " [ 7.11779353e-02 -1.26358574e-01  2.29190562e+00]\n",
      " [ 1.43551640e-01 -6.01334904e-01  2.35394448e+00]\n",
      " [-4.88091563e-01 -6.13890489e-01  2.30229356e+00]\n",
      " [ 9.92144457e-02 -7.64903314e-01  2.26666107e+00]\n",
      " [-3.98140468e-01 -6.57172604e-01  2.51626842e+00]\n",
      " [ 1.95495886e-02 -6.96838335e-02  2.48347927e+00]\n",
      " [-8.95760541e-02 -3.09569351e-01  2.27006318e+00]\n",
      " [ 4.58779251e-01 -4.38735668e-01  2.30799488e+00]\n",
      " [ 2.18461885e-01 -1.79704671e-01  2.23177732e+00]\n",
      " [ 4.57601145e-01  9.02254943e-01  2.20649505e+00]\n",
      " [-4.28932615e-01 -3.07604697e-01  2.40241241e+00]\n",
      " [-4.80181116e-01 -1.11869947e-01  2.30540850e+00]\n",
      " [-8.99772747e-02  6.46701931e-01  2.07826597e+00]\n",
      " [ 4.39891878e-02  4.80091168e-01  2.38579451e+00]\n",
      " [ 6.13741585e-02 -6.81116022e-01  2.55625992e+00]\n",
      " [ 1.27818636e-01 -9.13148165e-01  2.55276599e+00]\n",
      " [ 1.87853182e-01  8.94424849e-01  2.40459872e+00]\n",
      " [-4.06510959e-02 -2.06387201e-02  2.54689859e+00]\n",
      " [ 3.50546513e-01  1.33613841e-01  2.38880535e+00]\n",
      " [ 3.85197682e-01  6.77546652e-02  2.42953583e+00]\n",
      " [ 4.14072875e-01 -3.64478050e-01  2.38544192e+00]\n",
      " [ 3.50917645e-01  1.62676900e-01  2.32454952e+00]\n",
      " [-2.01589022e-01  7.91423090e-01  2.25392226e+00]\n",
      " [ 2.54564322e-01 -1.64555947e-01  2.57292706e+00]\n",
      " [ 1.40399396e-01  7.35923704e-01  2.41667566e+00]\n",
      " [-3.32623782e-01  9.63912657e-02  2.31496063e+00]\n",
      " [-2.26542113e-01  2.59486732e-01  2.28342910e+00]\n",
      " [-3.09656217e-01 -8.07208150e-01  2.27668668e+00]\n",
      " [ 2.94589406e-01 -3.06753448e-01  2.35631976e+00]\n",
      " [ 1.63715470e-01 -1.94684149e-01  2.35051844e+00]\n",
      " [ 1.38390136e-01 -3.19004189e-01  2.26756176e+00]\n",
      " [ 4.19310217e-01  2.11632230e-01  2.44521931e+00]\n",
      " [ 4.41168039e-01  8.31914628e-01  2.20968066e+00]\n",
      " [ 3.92732932e-01 -3.70460129e-01  2.41692775e+00]\n",
      " [ 2.02546361e-01 -3.34809011e-01  2.36618188e+00]\n",
      " [-5.00156247e-01 -6.79574387e-01  2.25930554e+00]\n",
      " [-1.93701332e-01 -8.58756817e-01  2.20644519e+00]\n",
      " [-4.33294016e-01  1.57382805e-01  2.27552019e+00]\n",
      " [-7.10995329e-02 -7.47479546e-02  2.27506477e+00]\n",
      " [-1.95035265e-01  6.51056542e-01  2.20818810e+00]\n",
      " [-1.40701016e-01 -8.90103127e-01  2.29823860e+00]\n",
      " [ 3.95186382e-01  4.21567624e-01  2.57948150e+00]\n",
      " [ 1.54916879e-01 -6.68307750e-02  2.43778915e+00]\n",
      " [-4.23476971e-01 -4.89882510e-01  2.73424813e+00]\n",
      " [ 7.83158766e-02  5.80719314e-01  2.57987951e+00]\n",
      " [-4.63469748e-01  3.26135330e-01  2.45109581e+00]\n",
      " [ 3.22812464e-01  7.36928619e-01  2.43236873e+00]\n",
      " [ 2.16053627e-02  3.22018060e-01  2.47160759e+00]\n",
      " [ 2.04842689e-01  1.62866163e-01  2.14898306e+00]\n",
      " [-4.95728208e-01  2.79426647e-02  2.60824971e+00]\n",
      " [ 2.42023601e-01  9.10402440e-01  2.27187763e+00]\n",
      " [ 1.39007125e-01 -3.57071602e-01  2.48215132e+00]\n",
      " [ 4.24534524e-01 -1.35044123e-01  2.37150998e+00]\n",
      " [-4.94734268e-01 -7.67222604e-01  2.28161015e+00]\n",
      " [-7.45969045e-02 -8.97431465e-01  2.48313872e+00]\n",
      " [ 3.43098978e-02  4.99553271e-02  2.48222226e+00]\n",
      " [-3.80869881e-01  6.56916011e-01  2.38266531e+00]\n",
      " [ 3.40249629e-01 -8.34681842e-01  2.27436641e+00]\n",
      " [ 3.91460158e-01 -8.60134146e-01  2.34523237e+00]\n",
      " [-2.04167443e-01  5.69054833e-02  2.37563300e+00]\n",
      " [ 1.96375058e-01 -2.40625309e-01  2.54060285e+00]\n",
      " [-3.06732793e-01  5.11044459e-01  2.24658444e+00]\n",
      " [-3.96990365e-01  5.37912727e-02  2.41227675e+00]\n",
      " [-4.25013165e-01 -1.44010913e-01  2.36343143e+00]\n",
      " [ 1.47340715e-02 -7.35854440e-01  2.23468960e+00]\n",
      " [ 2.54594647e-01  1.47357111e-01  2.24081805e+00]\n",
      " [-2.33657158e-01 -4.16170414e-01  2.49888461e+00]\n",
      " [ 1.86368346e-01 -2.86213542e-01  2.36863233e+00]\n",
      " [-2.96034158e-01 -5.50003693e-01  2.38683764e+00]\n",
      " [-2.63560506e-01 -1.27261899e-01  2.50585852e+00]\n",
      " [ 1.20238502e-01 -6.79568823e-01  2.26469855e+00]\n",
      " [ 4.85174831e-01 -4.29621432e-01  2.31779387e+00]\n",
      " [ 2.55151171e-01  2.44942824e-03  2.13698682e+00]\n",
      " [ 3.17104230e-01 -5.72814357e-01  2.26877676e+00]\n",
      " [-4.31687288e-01 -6.78616897e-01  2.26300257e+00]\n",
      " [-5.17915589e-01 -7.51138779e-01  2.30376534e+00]\n",
      " [ 3.37536275e-01  6.41146743e-01  2.14644426e+00]\n",
      " [ 3.89692837e-01  2.46968166e-01  2.33093486e+00]\n",
      " [-1.64626723e-01 -4.38567070e-01  2.31520967e+00]\n",
      " [-2.47889033e-01 -7.45054418e-01  2.68640709e+00]\n",
      " [-4.42098935e-01 -5.71614306e-01  2.24353149e+00]\n",
      " [ 4.46212286e-01 -3.90175436e-01  2.23627113e+00]\n",
      " [ 4.04158383e-01  3.98435110e-01  2.15722278e+00]\n",
      " [ 4.59453314e-01 -7.96690728e-01  2.23480784e+00]\n",
      " [-3.50358455e-01  8.60719005e-01  2.49857358e+00]\n",
      " [ 4.37988382e-01 -4.63203219e-01  2.72015070e+00]\n",
      " [ 5.10609880e-01 -6.42191162e-01  2.55459085e+00]\n",
      " [ 4.19010766e-01 -8.24479167e-01  2.47749249e+00]\n",
      " [ 4.48508720e-01 -1.70840587e-01  1.97283023e+00]\n",
      " [-2.68033444e-01 -7.79286186e-02  2.48429112e+00]\n",
      " [-1.71388928e-01  3.78134188e-01  2.38706537e+00]\n",
      " [ 3.23136159e-01 -6.87510554e-01  2.40290064e+00]\n",
      " [-4.69804318e-01 -6.25902324e-01  2.25345100e+00]\n",
      " [ 1.10107063e-02  7.02439700e-01  2.55159382e+00]\n",
      " [ 1.53759286e-01 -1.50810192e-01  2.45065205e+00]\n",
      " [-1.24378671e-01  4.47364271e-01  2.20502583e+00]\n",
      " [-2.07889220e-01  8.78395269e-01  2.67613389e+00]\n",
      " [-2.16687466e-01  4.00357558e-01  2.52538912e+00]]\n"
     ]
    }
   ],
   "source": [
    "particles = placeParticles(3)\n",
    "print(particles)"
   ]
  },
  {
   "cell_type": "code",
   "execution_count": 338,
   "metadata": {},
   "outputs": [
    {
     "name": "stdout",
     "output_type": "stream",
     "text": [
      "[[-0.32792747 -0.89071932  2.37947371]]\n"
     ]
    }
   ],
   "source": [
    "print(particles[:1, :])"
   ]
  },
  {
   "cell_type": "code",
   "execution_count": null,
   "metadata": {},
   "outputs": [],
   "source": [
    "distances = np.apply_along_axis(rollLinewise, 1, particles)\n",
    "# print(distances)"
   ]
  },
  {
   "cell_type": "code",
   "execution_count": 218,
   "metadata": {},
   "outputs": [],
   "source": [
    "# data = placeParticles()\n",
    "data = resampleParticles(0.45,0.5)\n",
    "# print(data)"
   ]
  },
  {
   "cell_type": "code",
   "execution_count": 235,
   "metadata": {},
   "outputs": [
    {
     "name": "stdout",
     "output_type": "stream",
     "text": [
      "13\n"
     ]
    }
   ],
   "source": [
    "robot = [0.20787156, 0.31878178, 0.44155375, 1.32133476, 1.77038155, 1.02934888, 0.4293922, 0.21328546]\n",
    "delta = getFittestIndex(distances, robot)\n",
    "print(delta.min())"
   ]
  },
  {
   "cell_type": "code",
   "execution_count": 236,
   "metadata": {},
   "outputs": [
    {
     "data": {
      "text/plain": [
       "array([ 0.20137832, -0.76614801,  5.0294163 ])"
      ]
     },
     "execution_count": 236,
     "metadata": {},
     "output_type": "execute_result"
    }
   ],
   "source": [
    "particles[13]"
   ]
  },
  {
   "cell_type": "code",
   "execution_count": 219,
   "metadata": {
    "scrolled": true
   },
   "outputs": [
    {
     "data": {
      "image/png": "[encoded data removed]",
      "text/plain": [
       "<Figure size 424.8x698.4 with 1 Axes>"
      ]
     },
     "metadata": {
      "needs_background": "light"
     },
     "output_type": "display_data"
    }
   ],
   "source": [
    "f, ax = plt.subplots(1,1, figsize=(W*5,H*5))\n",
    "ax.set_xlim(-W/2, W/2)\n",
    "ax.set_ylim(-H/2, H/2)\n",
    "\n",
    "ax.scatter(data[:,0], data[:,1])\n",
    "\n",
    "\n",
    "# When the robot senses an obstacle, draw the sensor that detects it.\n",
    "# obstacled = data[data[:,4] == 1]\n",
    "# ax.quiver(obstacled[:,0], obstacled[:,1], obstacled[:,5], obstacled[:,6], color='red',alpha=0.5)\n",
    "\n",
    "\n",
    "plt.show()"
   ]
  },
  {
   "cell_type": "code",
   "execution_count": 275,
   "metadata": {},
   "outputs": [],
   "source": [
    "# this function simulates our camera by returning an integer representing the combination of corners\n",
    "# that are currently visible in the view field of the camera\n",
    "\n",
    "def simulateCamera(x, y, q):\n",
    "    \n",
    "    # two lines drawn with shapely\n",
    "    camera_fov_left = LineString([(x, y), (x+cos(q-dtr(62.2))*2*W,(y+sin(q-dtr(62.2))*2*H)) ])\n",
    "    camera_fov_right = LineString([(x, y), (x+cos(q+dtr(62.2))*2*W,(y+sin(q+dtr(62.2))*2*H)) ])\n",
    "    \n",
    "    # array of camera rays\n",
    "    camera_rays = [camera_fov_left, camera_fov_right]\n",
    "\n",
    "    # these constants represent the x/y coords of our maps walls\n",
    "    left_x = -(W/2)\n",
    "    right_x = W/2\n",
    "    top_y = H/2\n",
    "    bot_y = -(H/2)\n",
    "    \n",
    "    detected = []\n",
    "    \n",
    "    # loop over the two rays (left and right border of field-of-view)\n",
    "    for ray in camera_rays:\n",
    "        s = world.intersection(ray)\n",
    "        \n",
    "        # Going clockwise starting with top wall == case 1\n",
    "        # we have 8 cases of hitting one of the four walls or one of the corners four directly.\n",
    "        \n",
    "        \n",
    "        # top right corner\n",
    "        if s.x == right and s.y == top:\n",
    "            detected.append(2)\n",
    "        # bot right corner\n",
    "        elif s.x == right and s.y == bot:\n",
    "            detected.append(4)\n",
    "        # bot left corner\n",
    "        elif s.x == left and s.y == bot:\n",
    "            detected.append(6)\n",
    "        # top left corner\n",
    "        elif s.x == left and s.y == top:\n",
    "            detected.append(8)      \n",
    "        # top wall\n",
    "        elif s.y == top:\n",
    "            detected.append(1)\n",
    "        # right wall\n",
    "        elif s.x == right:\n",
    "            detected.append(3)\n",
    "        # bot wall\n",
    "        elif s.y == bot:\n",
    "            detected.append(5)\n",
    "        # left wall\n",
    "        elif s.x == left:\n",
    "            detected.append(7)\n",
    "        \n",
    "    \n",
    "    # hacky trick: we use a tuple here to be able to do array comparison\n",
    "    # note: the order matters, detect[0] = left border, detect[1] = right border\n",
    "    detect = (detected[0], detected[1])\n",
    "    \n",
    "    if detect == (1,1) or detect == (3,3) or detect == (5,5) or detect == (7,7):\n",
    "        return 0\n",
    "    elif detect == (1,2) or detect == (1,3) or detect == (2,3):\n",
    "        return 1\n",
    "    elif detect == (1,5):\n",
    "        return 1.5\n",
    "    elif detect == (3,4) or detect == (3,5) or detect == (4,5):\n",
    "        return 2\n",
    "    elif detect == (3,7):\n",
    "        return 2.5\n",
    "    elif detect == (5,6) or detect == (5,7) or detect == (6,7):\n",
    "        return 3\n",
    "    elif detect == (5,1):\n",
    "        return 3.5\n",
    "    elif detect == (7,8) or detect == (7,1) or detect == (8,1):\n",
    "        return 4\n",
    "    elif detect == (7,3):\n",
    "        return 4.5\n",
    "    else:\n",
    "        return None # just an error catch case, should not happen"
   ]
  },
  {
   "cell_type": "code",
   "execution_count": 101,
   "metadata": {},
   "outputs": [],
   "source": [
    "# Constants simulation\n",
    "\n",
    "robot_timestep = 0.1        # 1/robot_timestep equals update frequency of robot\n",
    "simulation_timestep = 0.01  # timestep in kinematics sim (probably don't touch..)\n",
    "\n",
    "# Variables robot\n",
    "###########\n",
    "\n",
    "x = 0   # robot position in meters - x direction - positive to the right \n",
    "y = 0   # robot position in meters - y direction - positive up\n",
    "q = 0.0   # robot heading with respect to x-axis in radians\n",
    "\n",
    "left_wheel_velocity =  random()   # robot left wheel velocity in radians/s\n",
    "right_wheel_velocity =  random()  # robot right wheel velocity in radians/s\n",
    "\n",
    "# Sensor measurements\n",
    "##################\n",
    "\n",
    "# central sensor: robot starts 80mm in front 0.008\n",
    "# side sensors: robot starts 78mm in front 0.0078\n",
    "\n",
    "# Kinematic model\n",
    "#################\n",
    "# updates robot position and heading based on velocity of wheels and the elapsed time\n",
    "# the equations are a forward kinematic model of a two-wheeled robot - don't worry just use it\n",
    "def simulationstep():\n",
    "    global x, y, q\n",
    "    \n",
    "    for step in range(int(robot_timestep/simulation_timestep)):     #step model time/timestep times\n",
    "        v_x = cos(q)*(R*left_wheel_velocity/2 + R*right_wheel_velocity/2) \n",
    "        v_y = sin(q)*(R*left_wheel_velocity/2 + R*right_wheel_velocity/2)\n",
    "        omega = (R*right_wheel_velocity - R*left_wheel_velocity)/(2*L)    \n",
    "    \n",
    "        x += v_x * simulation_timestep\n",
    "        y += v_y * simulation_timestep\n",
    "        q += omega * simulation_timestep\n",
    "\n",
    "# Simulation loop\n",
    "#################\n",
    "file = open(\"trajectory.dat\", \"w\") \n",
    "\n",
    "for cnt in range(10000):\n",
    "    \n",
    "    # these arrays contain the x, y, q positioning of our robot and 100 particles\n",
    "    robot = np.array([x, y, q])\n",
    "    particles = placeParticles()\n",
    "    \n",
    "    # this array contains the distances to the walls, simulating our lidar laser range finder's output\n",
    "    robot_distances = rollLinewise(robot)\n",
    "    particle_distances = np.apply_along_axis(rollLinewise, 1, particles)\n",
    "    \n",
    "    # delta array\n",
    "    delta = particle_distances - robot_distances\n",
    "    \n",
    "    # camera simulation\n",
    "    camera_output = simulateCamera(x, y, q)\n",
    "    \n",
    "    min_distance = margin # dummy large number\n",
    "    # check, if a value in the distances array is below the threshold\n",
    "    # get the index of it to map onto angle (45,90,135, etc.)\n",
    "    for i,ray in enumerate(rays):\n",
    "        s = world.intersection(ray)\n",
    "        distance = sqrt((s.x-x)**2+(s.y-y)**2)\n",
    "        if distance < min_distance:\n",
    "            min_distance = distance\n",
    "            direction = i # if direction is 0, obstacle sensed Left. If 1, obstacle straight ahead. If 2, obstacle to the right.\n",
    "            # distance to wall\n",
    "    \n",
    "    obstacle = 0\n",
    "    # simple controller - change direction of wheels every 10 seconds (100*robot_timestep) unless close to wall then turn on spot\n",
    "    if (distance < 0.20): # OBSTACLE SENSED. #TODO: input sensor distance from robot centre (80 mm)\n",
    "        obstacle = 1\n",
    "        if direction == 0: # Obstacle to left. turn right\n",
    "            left_wheel_velocity = -0.4\n",
    "            right_wheel_velocity = 0.4\n",
    "            \n",
    "        if direction == 1: # obstacle ahead. turn right\n",
    "            left_wheel_velocity = 0.4 # Original code. If delete, keep this\n",
    "            right_wheel_velocity = -0.4\n",
    "            \n",
    "        if direction == 2: #obstacle to the right. turn left\n",
    "            left_wheel_velocity = 0.4 \n",
    "            right_wheel_velocity = -0.4\n",
    "\n",
    "    else:\n",
    "        obstacle = 0\n",
    "        if cnt%100==0:\n",
    "            speed = random()\n",
    "        \n",
    "            left_wheel_velocity = speed\n",
    "            right_wheel_velocity = speed\n",
    "        \n",
    "    #step simulation\n",
    "    simulationstep()\n",
    "\n",
    "    #check collision with arena walls \n",
    "    if (world.distance(Point(x,y))<L/2):\n",
    "        break\n",
    "        \n",
    "    if cnt%50==0:\n",
    "        # ATTN: CHANGE LAST TWO VALUES IF WE MOVE UP TO FIVE SENSORS. CODE WILL NOT WORK\n",
    "        file.write( str(x) + \", \" + str(y) + \", \" + str(cos(q)*0.05) + \", \" + str(sin(q)*0.05) + \", \" + str(obstacle) + \", \" + str(cos(q+((direction-1)*np.pi/4))*0.05) + \", \" + str(sin(q+((direction-1)*np.pi/4))*0.05) + \"\\n\")\n",
    "\n",
    "file.close()"
   ]
  },
  {
   "cell_type": "code",
   "execution_count": 82,
   "metadata": {
    "scrolled": false
   },
   "outputs": [
    {
     "name": "stdout",
     "output_type": "stream",
     "text": [
      "[[ 4.85034450e-05  0.00000000e+00  5.00000000e-02 ...  0.00000000e+00\n",
      "   5.00000000e-02  0.00000000e+00]\n",
      " [ 2.47367569e-03  0.00000000e+00  5.00000000e-02 ...  0.00000000e+00\n",
      "   5.00000000e-02  0.00000000e+00]\n",
      " [ 6.58220465e-03  0.00000000e+00  5.00000000e-02 ...  0.00000000e+00\n",
      "   5.00000000e-02  0.00000000e+00]\n",
      " ...\n",
      " [ 4.09041275e-01  2.53382542e-01 -5.34419076e-03 ...  0.00000000e+00\n",
      "   3.13738931e-02 -3.89317201e-02]\n",
      " [ 4.07864770e-01  2.42438276e-01 -5.34419076e-03 ...  0.00000000e+00\n",
      "   3.13738931e-02 -3.89317201e-02]\n",
      " [ 3.97476856e-01  1.45806179e-01 -5.34419076e-03 ...  0.00000000e+00\n",
      "   3.13738931e-02 -3.89317201e-02]]\n"
     ]
    }
   ],
   "source": [
    "# load data from file into numpy\n",
    "data = np.loadtxt('trajectory.dat', delimiter=\", \")\n",
    "print(data)"
   ]
  },
  {
   "cell_type": "code",
   "execution_count": 83,
   "metadata": {},
   "outputs": [
    {
     "data": {
      "image/png": "[encoded data removed]",
      "text/plain": [
       "<Figure size 424.8x698.4 with 1 Axes>"
      ]
     },
     "metadata": {
      "needs_background": "light"
     },
     "output_type": "display_data"
    }
   ],
   "source": [
    "f, ax = plt.subplots(1,1, figsize=(W*5,H*5))\n",
    "ax.set_xlim(-W/2, W/2)\n",
    "ax.set_ylim(-H/2, H/2)\n",
    "\n",
    "ax.quiver(data[:,0], data[:,1], data[:,2], data[:,3])\n",
    "\n",
    "# When the robot senses an obstacle, draw the sensor that detects it.\n",
    "obstacled = data[data[:,4] == 1]\n",
    "ax.quiver(obstacled[:,0], obstacled[:,1], obstacled[:,5], obstacled[:,6], color='red',alpha=0.5)\n",
    "\n",
    "\n",
    "plt.show()"
   ]
  },
  {
   "cell_type": "code",
   "execution_count": null,
   "metadata": {},
   "outputs": [],
   "source": []
  }
 ],
 "metadata": {
  "kernelspec": {
   "display_name": "Python 3",
   "language": "python",
   "name": "python3"
  },
  "language_info": {
   "codemirror_mode": {
    "name": "ipython",
    "version": 3
   },
   "file_extension": ".py",
   "mimetype": "text/x-python",
   "name": "python",
   "nbconvert_exporter": "python",
   "pygments_lexer": "ipython3",
   "version": "3.7.4"
  }
 },
 "nbformat": 4,
 "nbformat_minor": 4
}
