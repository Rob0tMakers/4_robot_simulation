{
 "cells": [
  {
   "cell_type": "code",
   "execution_count": 8,
   "metadata": {
    "scrolled": true
   },
   "outputs": [],
   "source": [
    "import shapely\n",
    "from shapely.geometry import LinearRing, LineString, Point\n",
    "from numpy import sin, cos, pi, sqrt\n",
    "from random import random\n",
    "\n",
    "import numpy as np\n",
    "from matplotlib import pyplot as plt"
   ]
  },
  {
   "cell_type": "code",
   "execution_count": 9,
   "metadata": {},
   "outputs": [],
   "source": [
    "# A prototype simulation of a differential-drive robot with one sensor\n",
    "\n",
    "# Constants\n",
    "###########\n",
    "R = 0.02  # radius of wheels in meters\n",
    "L = 0.10  # distance between wheels in meters\n",
    "\n",
    "W = 2.0  # width of arena\n",
    "H = 2.0  # height of arena\n",
    "\n",
    "robot_timestep = 0.1        # 1/robot_timestep equals update frequency of robot\n",
    "simulation_timestep = 0.01  # timestep in kinematics sim (probably don't touch..)\n",
    "\n",
    "# the world is a rectangular arena with width W and height H\n",
    "world = LinearRing([(W/2,H/2),(-W/2,H/2),(-W/2,-H/2),(W/2,-H/2)])\n",
    "\n",
    "# Variables \n",
    "###########\n",
    "\n",
    "x = 0.0   # robot position in meters - x direction - positive to the right \n",
    "y = 0.0   # robot position in meters - y direction - positive up\n",
    "q = 0.0   # robot heading with respect to x-axis in radians \n",
    "\n",
    "left_wheel_velocity =  random()   # robot left wheel velocity in radians/s\n",
    "right_wheel_velocity =  random()  # robot right wheel velocity in radians/s\n",
    "\n",
    "# Kinematic model\n",
    "#################\n",
    "# updates robot position and heading based on velocity of wheels and the elapsed time\n",
    "# the equations are a forward kinematic model of a two-wheeled robot - don't worry just use it\n",
    "def simulationstep():\n",
    "    global x, y, q\n",
    "\n",
    "    for step in range(int(robot_timestep/simulation_timestep)):     #step model time/timestep times\n",
    "        v_x = cos(q)*(R*left_wheel_velocity/2 + R*right_wheel_velocity/2) \n",
    "        v_y = sin(q)*(R*left_wheel_velocity/2 + R*right_wheel_velocity/2)\n",
    "        omega = (R*right_wheel_velocity - R*left_wheel_velocity)/(2*L)    \n",
    "    \n",
    "        x += v_x * simulation_timestep\n",
    "        y += v_y * simulation_timestep\n",
    "        q += omega * simulation_timestep\n",
    "\n",
    "# Simulation loop\n",
    "#################\n",
    "file = open(\"trajectory.dat\", \"w\")\n",
    "\n",
    "for cnt in range(5000):\n",
    "    #simple single-ray sensor\n",
    "    ray = LineString([(x, y), (x+cos(q)*2*W,-(y+sin(q)*2*H)) ])  # a line from robot to a point outside arena in direction of q\n",
    "    s = world.intersection(ray)\n",
    "    distance = sqrt((s.x-x)**2+(s.y-y)**2)                    # distance to wall\n",
    "    \n",
    "    #simple controller - change direction of wheels every 10 seconds (100*robot_timestep) unless close to wall then turn on spot\n",
    "    if (distance < 0.5):\n",
    "        left_wheel_velocity = -0.4\n",
    "        right_wheel_velocity = 0.4\n",
    "    else:                \n",
    "        if cnt%100==0:\n",
    "            left_wheel_velocity = random()\n",
    "            right_wheel_velocity = random()\n",
    "        \n",
    "    #step simulation\n",
    "    simulationstep()\n",
    "\n",
    "    #check collision with arena walls \n",
    "    if (world.distance(Point(x,y))<L/2):\n",
    "        break\n",
    "        \n",
    "    if cnt%50==0:\n",
    "        file.write( str(x) + \", \" + str(y) + \", \" + str(cos(q)*0.05) + \", \" + str(sin(q)*0.05) + \"\\n\")\n",
    "\n",
    "file.close()"
   ]
  },
  {
   "cell_type": "code",
   "execution_count": 10,
   "metadata": {},
   "outputs": [
    {
     "name": "stdout",
     "output_type": "stream",
     "text": [
      "[[ 3.00424589e-04 -3.94692364e-07  4.99997869e-02 -1.45975467e-04]\n",
      " [ 1.52652884e-02 -1.13632752e-03  4.94467788e-02 -7.41728175e-03]\n",
      " [ 2.99735792e-02 -4.45655963e-03  4.79125879e-02 -1.42962904e-02]\n",
      " [ 4.79828806e-02 -8.87516154e-03  4.90904917e-02 -9.49334632e-03]\n",
      " [ 6.74878394e-02 -1.15997576e-02  4.97918614e-02 -4.55747093e-03]\n",
      " [ 1.43569301e-01 -1.32605437e-02  4.99426428e-02  2.39424888e-03]\n",
      " [ 2.18264592e-01 -4.51837013e-03  4.92088577e-02  8.85936338e-03]\n",
      " [ 2.49455870e-01 -3.76487706e-03  4.95752383e-02 -6.50351813e-03]\n",
      " [ 2.80380038e-01 -1.29672801e-02  4.54368330e-02 -2.08684980e-02]\n",
      " [ 3.59541673e-01 -4.39891256e-02  4.75212674e-02 -1.55476413e-02]\n",
      " [ 4.41512480e-01 -6.57362074e-02  4.89170665e-02 -1.03499085e-02]\n",
      " [ 5.11872020e-01 -8.88741291e-02  4.55032160e-02 -2.07233524e-02]\n",
      " [ 5.75140859e-01 -1.26446708e-01  3.97665484e-02 -3.03087714e-02]\n",
      " [ 6.06461647e-01 -1.64805217e-01  2.17024027e-02 -4.50444860e-02]\n",
      " [ 6.16993913e-01 -2.13216317e-01 -2.40038629e-04 -4.99994238e-02]\n",
      " [ 6.26042878e-01 -2.63144810e-01  1.78065075e-02 -4.67218181e-02]\n",
      " [ 6.52433087e-01 -3.06397766e-01  3.29712062e-02 -3.75885562e-02]\n",
      " [ 6.78230212e-01 -3.45778941e-01  2.12624694e-02 -4.52538109e-02]\n",
      " [ 6.92098323e-01 -3.90714188e-01  8.38694670e-03 -4.92915726e-02]\n",
      " [ 7.04427842e-01 -4.33472833e-01  1.91659128e-02 -4.61808162e-02]\n",
      " [ 7.26120838e-01 -4.72604049e-01  2.90001196e-02 -4.07307385e-02]\n",
      " [ 7.35774427e-01 -4.85212884e-01  4.14303597e-02 -2.79915219e-02]\n",
      " [ 7.35774427e-01 -4.85212884e-01  4.90603003e-02 -9.64815695e-03]\n",
      " [ 7.35774427e-01 -4.85212884e-01  4.89446983e-02  1.02184398e-02]\n",
      " [ 7.35774427e-01 -4.85212884e-01  4.11018046e-02  2.84717696e-02]\n",
      " [ 7.35774427e-01 -4.85212884e-01  2.67698396e-02  4.22300330e-02]\n",
      " [ 7.35964446e-01 -4.84133731e-01  8.75003684e-03  4.92284151e-02]\n",
      " [ 7.49453261e-01 -4.31082913e-01  1.58402232e-02  4.74245435e-02]\n",
      " [ 7.60605400e-01 -4.01361216e-01  1.18706161e-02  4.85704486e-02]\n",
      " [ 7.75224315e-01 -3.56157385e-01  1.65894700e-02  4.71676742e-02]\n",
      " [ 7.75150635e-01 -3.54843649e-01 -2.93561597e-03  4.99137472e-02]\n",
      " [ 7.63263713e-01 -2.90306652e-01 -1.50642969e-02  4.76766920e-02]\n",
      " [ 7.36553249e-01 -2.31639388e-01 -2.60502867e-02  4.26776588e-02]\n",
      " [ 7.32805290e-01 -2.25372913e-01 -2.52754934e-02  4.31410412e-02]\n",
      " [ 7.28997016e-01 -2.18731411e-01 -2.46132663e-02  4.35222601e-02]\n",
      " [ 7.15407759e-01 -1.97756328e-01 -2.96714514e-02  4.02443160e-02]\n",
      " [ 6.99199305e-01 -1.78359648e-01 -3.40965689e-02  3.65708079e-02]\n",
      " [ 6.74759220e-01 -1.47668991e-01 -2.79961888e-02  4.14272062e-02]\n",
      " [ 6.55131785e-01 -1.13003797e-01 -2.10969572e-02  4.53312077e-02]\n",
      " [ 6.35142027e-01 -4.66720340e-02 -7.43496267e-03  4.94441233e-02]\n",
      " [ 6.34547473e-01  2.14725612e-02  6.65087313e-03  4.95556847e-02]\n",
      " [ 6.36822457e-01  3.36387438e-02  1.17154807e-02  4.86081013e-02]\n",
      " [ 6.40457839e-01  4.58450313e-02  1.68423533e-02  4.70779687e-02]\n",
      " [ 6.54796337e-01  7.24780042e-02  3.00512532e-02  3.99615088e-02]\n",
      " [ 6.63487675e-01  8.28233501e-02  2.63220443e-02  4.25105867e-02]\n",
      " [ 6.75642953e-01  9.89279835e-02  2.60232358e-02  4.26941588e-02]\n",
      " [ 6.75782094e-01  9.98307323e-02  7.46743844e-03  4.94392290e-02]\n",
      " [ 6.76376072e-01  1.45354337e-01 -6.20219611e-03  4.96138364e-02]\n",
      " [ 6.64672176e-01  1.89208692e-01 -1.93327164e-02  4.61112359e-02]\n",
      " [ 6.46387570e-01  2.23241133e-01 -2.77938683e-02  4.15632156e-02]\n",
      " [ 6.21899909e-01  2.53182728e-01 -3.51584783e-02  3.55511097e-02]\n",
      " [ 5.91734541e-01  2.80980590e-01 -3.83059714e-02  3.21349118e-02]\n",
      " [ 5.59141531e-01  3.05843604e-01 -4.11432265e-02  2.84118798e-02]\n",
      " [ 5.25120392e-01  3.26241708e-01 -4.44511682e-02  2.28930916e-02]\n",
      " [ 4.87966806e-01  3.42393363e-01 -4.69598654e-02  1.71688976e-02]\n",
      " [ 4.11766758e-01  3.72694247e-01 -4.59243864e-02  1.97724741e-02]\n",
      " [ 3.37655565e-01  4.07084258e-01 -4.46247419e-02  2.25528804e-02]\n",
      " [ 2.83798875e-01  4.46295916e-01 -3.51447414e-02  3.55646896e-02]\n",
      " [ 2.45228713e-01  5.00510716e-01 -2.23693211e-02  4.47170378e-02]\n",
      " [ 2.15416534e-01  5.55564243e-01 -2.52290470e-02  4.31682196e-02]\n",
      " [ 1.82051443e-01  6.08622544e-01 -2.78065307e-02  4.15547452e-02]\n",
      " [ 1.49423384e-01  6.66052527e-01 -2.14464079e-02  4.51669303e-02]\n",
      " [ 1.25608429e-01  7.27332487e-01 -1.51991481e-02  4.76338734e-02]\n",
      " [ 9.99791401e-02  7.70602146e-01 -3.45016473e-02  3.61888979e-02]\n",
      " [ 5.77912481e-02  7.98395808e-01 -4.65646818e-02  1.82134678e-02]\n",
      " [ 4.95305626e-03  8.30966853e-01 -3.71686492e-02  3.34438562e-02]\n",
      " [-3.30962375e-02  8.80169263e-01 -2.34155249e-02  4.41781982e-02]\n",
      " [-6.82156172e-02  9.39353075e-01 -2.75646363e-02  4.17155945e-02]]\n"
     ]
    }
   ],
   "source": [
    "# load data from file into numpy\n",
    "data = np.loadtxt('trajectory.dat', delimiter=\", \")\n",
    "print(data)"
   ]
  },
  {
   "cell_type": "code",
   "execution_count": 11,
   "metadata": {},
   "outputs": [
    {
     "data": {
      "text/plain": [
       "<matplotlib.collections.PathCollection at 0x7fc6c434e0d0>"
      ]
     },
     "execution_count": 11,
     "metadata": {},
     "output_type": "execute_result"
    },
    {
     "data": {
      "image/png": "[encoded data removed]",
      "text/plain": [
       "<Figure size 432x288 with 1 Axes>"
      ]
     },
     "metadata": {
      "needs_background": "light"
     },
     "output_type": "display_data"
    }
   ],
   "source": [
    "plt.scatter(data[:,:1], data[:,1:2])"
   ]
  },
  {
   "cell_type": "code",
   "execution_count": 12,
   "metadata": {},
   "outputs": [
    {
     "data": {
      "text/plain": [
       "<matplotlib.quiver.Quiver at 0x7fc6c43a8090>"
      ]
     },
     "execution_count": 12,
     "metadata": {},
     "output_type": "execute_result"
    },
    {
     "data": {
      "image/png": "[encoded data removed]",
      "text/plain": [
       "<Figure size 432x288 with 1 Axes>"
      ]
     },
     "metadata": {
      "needs_background": "light"
     },
     "output_type": "display_data"
    }
   ],
   "source": [
    "plt.quiver(data[:,:1], data[:,1:2], data[:,2:3], data[:,3:4])"
   ]
  },
  {
   "cell_type": "code",
   "execution_count": null,
   "metadata": {},
   "outputs": [],
   "source": []
  }
 ],
 "metadata": {
  "kernelspec": {
   "display_name": "Python 3",
   "language": "python",
   "name": "python3"
  },
  "language_info": {
   "codemirror_mode": {
    "name": "ipython",
    "version": 3
   },
   "file_extension": ".py",
   "mimetype": "text/x-python",
   "name": "python",
   "nbconvert_exporter": "python",
   "pygments_lexer": "ipython3",
   "version": "3.7.4"
  }
 },
 "nbformat": 4,
 "nbformat_minor": 4
}
