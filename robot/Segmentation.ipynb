{
 "cells": [
  {
   "cell_type": "code",
   "execution_count": 1,
   "metadata": {},
   "outputs": [],
   "source": [
    "import cv2 as cv\n",
    "import numpy as np\n",
    "import matplotlib.pyplot as plt\n",
    "from PIL import Image"
   ]
  },
  {
   "cell_type": "code",
   "execution_count": 198,
   "metadata": {},
   "outputs": [],
   "source": [
    "def get_area(mask):\n",
    "    # Morphological closing to get whole particles; opening to get rid of noise\n",
    "    img_mop = cv.morphologyEx(mask, cv.MORPH_CLOSE, cv.getStructuringElement(cv.MORPH_ELLIPSE, (7, 7)))\n",
    "    img_mop = cv.morphologyEx(img_mop, cv.MORPH_OPEN, cv.getStructuringElement(cv.MORPH_ELLIPSE, (15, 15)))\n",
    "\n",
    "    # Find contours\n",
    "    cnts, _ = cv.findContours(img_mop, cv.RETR_EXTERNAL, cv.CHAIN_APPROX_NONE)\n",
    "\n",
    "    # Get bounding rectangles for the scale and the particles\n",
    "    if len(cnts) > 0:  \n",
    "        areas = []\n",
    "        for cnt in cnts:\n",
    "            areas.append(cv.contourArea(cnt))\n",
    "        return max(areas)\n",
    "    else: # No blobs were detected.\n",
    "        return 0\n",
    "    \n",
    "def return_orientation(IMG):\n",
    "    # blur images. If slow performance, can probably get away with remove some blurs\n",
    "    blur = cv.blur(IMG,(5,5))\n",
    "    blur0 = cv.medianBlur(blur,5)\n",
    "    blur1= cv.GaussianBlur(blur0,(5,5),0)\n",
    "    blur2= cv.bilateralFilter(blur1,9,75,75)\n",
    "    \n",
    "    # convert to HSV\n",
    "    hsv = cv.cvtColor(blur1, cv.COLOR_BGR2HSV)\n",
    "\n",
    "    # CREATE COLOUR MASKS\n",
    "    \n",
    "    # blue\n",
    "    low_blue = np.array([70, 70, 50])\n",
    "    high_blue = np.array([150, 255, 200])\n",
    "    blue_mask = cv.inRange(hsv, low_blue, high_blue)\n",
    "    erode_kernel = np.ones((11,11), np.uint8) \n",
    "    blue_mask = cv.erode(blue_mask, erode_kernel, iterations=4)\n",
    "    dilate_kernel = np.ones((5,5), np.uint8) \n",
    "    blue_mask = cv.dilate(blue_mask, dilate_kernel, iterations=1)\n",
    "    \n",
    "    # green\n",
    "    low_grn = np.array([50, 30, 30])\n",
    "    high_grn = np.array([80, 150, 180])\n",
    "    grn_mask = cv.inRange(hsv, low_grn, high_grn)\n",
    "    erode_kernel = np.ones((11,11), np.uint8) \n",
    "    grn_mask = cv.erode(grn_mask, erode_kernel, iterations=3)\n",
    "    # We dilated a lot because there is a lot of green noise\n",
    "    dilate_kernel = np.ones((5,5), np.uint8) \n",
    "    grn_mask = cv.dilate(grn_mask, dilate_kernel, iterations=5)\n",
    "    \n",
    "    # yellow\n",
    "    low_yel = np.array([20, 75, 150]) \n",
    "    high_yel = np.array([50, 200, 255])\n",
    "    yel_mask = cv.inRange(hsv, low_yel, high_yel)\n",
    "    erode_kernel = np.ones((3,3), np.uint8) \n",
    "    yel_mask = cv.erode(yel_mask, erode_kernel, iterations=1)\n",
    "    dilate_kernel = np.ones((3,3), np.uint8) \n",
    "    yel_mask = cv.dilate(yel_mask, dilate_kernel, iterations=1)\n",
    "    \n",
    "    # red\n",
    "    # Red exists at both ends of the color spectrum.\n",
    "    low_red_one = np.array([0, 150, 50])\n",
    "    high_red_one = np.array([10, 255, 255])\n",
    "    red_mask_one = cv.inRange(hsv, low_red_one, high_red_one)\n",
    "\n",
    "    low_red_two = np.array([150, 150, 50])\n",
    "    high_red_two = np.array([255, 255, 255])\n",
    "    red_mask_two = cv.inRange(hsv, low_red_two, high_red_two)\n",
    "\n",
    "    red_mask = red_mask_one + red_mask_two\n",
    "    erode_kernel = np.ones((5,5), np.uint8) \n",
    "    red_mask = cv.erode(red_mask, erode_kernel, iterations=2)\n",
    "    dilate_kernel = np.ones((5,5), np.uint8) \n",
    "    red_mask = cv.dilate(red_mask, dilate_kernel, iterations=2)\n",
    "    \n",
    "    masks = [red_mask, grn_mask, blue_mask, yel_mask]\n",
    "    \n",
    "    biggest_area = 0\n",
    "    biggest_mask = 0\n",
    "    second_biggest_area = 0\n",
    "    second_biggest_mask = 0\n",
    "\n",
    "    for i,mask in enumerate(masks):\n",
    "        current_area = get_area(mask)\n",
    "        if current_area > biggest_area:\n",
    "            second_biggest_area = biggest_area\n",
    "            second_biggest_mask = biggest_mask\n",
    "            biggest_area = current_area\n",
    "            biggest_mask = i+1\n",
    "        elif current_area > second_biggest_area:\n",
    "            second_biggest_area = current_area\n",
    "            second_biggest_mask = i+1\n",
    "\n",
    "    # 0 = none, 1 = red, 2 = green, 3 = blue, 4 = yellow\n",
    "    if biggest_area < second_biggest_area*1.2: # arbitary threshold to see if two targets are visible.\n",
    "        return biggest_mask, second_biggest_mask\n",
    "    else: \n",
    "        return biggest_mask"
   ]
  },
  {
   "cell_type": "code",
   "execution_count": 199,
   "metadata": {},
   "outputs": [
    {
     "data": {
      "text/plain": [
       "3"
      ]
     },
     "execution_count": 199,
     "metadata": {},
     "output_type": "execute_result"
    }
   ],
   "source": [
    "\"\"\"\n",
    "img0.jpg = yellow target\n",
    "img4.jpg = red target\n",
    "img8.jpg = green\n",
    "img10.jpg = blue\n",
    "\"\"\"\n",
    "\n",
    "img = cv.imread('C:/Users/Sara/Desktop/robot/new/img6.jpg')\n",
    "return_orientation(img)\n",
    "\n",
    "# To see. When we run this from the robot, we may need to convert the robot images to openCV format (BGR)\n",
    "# IN the function. But It's hard to test without having the robot. So if we start seeing weird results, test that first."
   ]
  },
  {
   "cell_type": "markdown",
   "metadata": {},
   "source": [
    "## This code is what is contained in the function return_orientation above. Keep for debugging."
   ]
  },
  {
   "cell_type": "code",
   "execution_count": 186,
   "metadata": {},
   "outputs": [],
   "source": [
    "# blur images\n",
    "blur = cv.blur(img,(5,5))\n",
    "blur0 = cv.medianBlur(blur,5)\n",
    "blur1= cv.GaussianBlur(blur0,(5,5),0)\n",
    "blur2= cv.bilateralFilter(blur1,9,75,75)"
   ]
  },
  {
   "cell_type": "code",
   "execution_count": 187,
   "metadata": {},
   "outputs": [],
   "source": [
    "# cv.imshow('blur2', blur2)\n",
    "# cv.waitKey(0)"
   ]
  },
  {
   "cell_type": "code",
   "execution_count": 188,
   "metadata": {},
   "outputs": [],
   "source": [
    "# convert to HSV\n",
    "hsv = cv.cvtColor(blur1, cv.COLOR_BGR2HSV)"
   ]
  },
  {
   "cell_type": "markdown",
   "metadata": {},
   "source": [
    "## Create the colour masks"
   ]
  },
  {
   "cell_type": "code",
   "execution_count": 189,
   "metadata": {},
   "outputs": [],
   "source": [
    "low_blue = np.array([70, 70, 50])\n",
    "high_blue = np.array([150, 255, 200])\n",
    "blue_mask = cv.inRange(hsv, low_blue, high_blue)\n",
    "erode_kernel = np.ones((10,10), np.uint8) \n",
    "blue_mask = cv.erode(blue_mask, erode_kernel, iterations=4)\n",
    "dilate_kernel = np.ones((5,5), np.uint8) \n",
    "blue_mask = cv.dilate(blue_mask, dilate_kernel, iterations=1)"
   ]
  },
  {
   "cell_type": "code",
   "execution_count": 190,
   "metadata": {},
   "outputs": [],
   "source": [
    "low_grn = np.array([50, 30, 30])\n",
    "high_grn = np.array([80, 150, 180])\n",
    "grn_mask = cv.inRange(hsv, low_grn, high_grn)\n",
    "kernel = np.ones((11,11), np.uint8) \n",
    "grn_mask = cv.erode(grn_mask, kernel, iterations=3)\n",
    "# We dilated a lot because there is a lot of green noise\n",
    "dilate_kernel = np.ones((5,5), np.uint8) \n",
    "grn_mask = cv.dilate(grn_mask, dilate_kernel, iterations=5)"
   ]
  },
  {
   "cell_type": "code",
   "execution_count": 191,
   "metadata": {},
   "outputs": [],
   "source": [
    "low_yel = np.array([20, 75, 150]) \n",
    "high_yel = np.array([50, 200, 255])\n",
    "yel_mask = cv.inRange(hsv, low_yel, high_yel)\n",
    "erode_kernel = np.ones((3,3), np.uint8) \n",
    "yel_mask = cv.erode(yel_mask, erode_kernel, iterations=1)\n",
    "dilate_kernel = np.ones((3,3), np.uint8) \n",
    "yel_mask = cv.dilate(yel_mask, dilate_kernel, iterations=1)"
   ]
  },
  {
   "cell_type": "code",
   "execution_count": 192,
   "metadata": {},
   "outputs": [],
   "source": [
    "# Red exists at both ends of the color spectrum.\n",
    "low_red_one = np.array([0, 150, 50])\n",
    "high_red_one = np.array([10, 255, 255])\n",
    "red_mask_one = cv.inRange(hsv, low_red_one, high_red_one)\n",
    "\n",
    "low_red_two = np.array([150, 150, 50])\n",
    "high_red_two = np.array([255, 255, 255])\n",
    "red_mask_two = cv.inRange(hsv, low_red_two, high_red_two)\n",
    "\n",
    "red_mask = red_mask_one + red_mask_two\n",
    "erode_kernel = np.ones((5,5), np.uint8) \n",
    "red_mask = cv.erode(red_mask, erode_kernel, iterations=2)\n",
    "dilate_kernel = np.ones((5,5), np.uint8) \n",
    "red_mask = cv.dilate(red_mask, dilate_kernel, iterations=2)"
   ]
  },
  {
   "cell_type": "code",
   "execution_count": 193,
   "metadata": {},
   "outputs": [],
   "source": [
    "# # VISUALIZATION OF MASKS\n",
    "# res = cv.bitwise_and(img,img, mask= blue_mask)\n",
    "# cv.imshow('blur2', res)\n",
    "# cv.waitKey(0)"
   ]
  },
  {
   "cell_type": "code",
   "execution_count": 194,
   "metadata": {},
   "outputs": [],
   "source": [
    "masks = [red_mask, grn_mask, blue_mask, yel_mask]"
   ]
  },
  {
   "cell_type": "code",
   "execution_count": 195,
   "metadata": {},
   "outputs": [
    {
     "name": "stdout",
     "output_type": "stream",
     "text": [
      "3\n"
     ]
    }
   ],
   "source": [
    "biggest_area = 0\n",
    "biggest_mask = 0\n",
    "second_biggest_area = 0\n",
    "second_biggest_mask = 0\n",
    "    \n",
    "for i,mask in enumerate(masks):\n",
    "    current_area = get_area(mask)\n",
    "    if current_area > biggest_area:\n",
    "        second_biggest_area = biggest_area\n",
    "        second_biggest_mask = biggest_mask\n",
    "        biggest_area = current_area\n",
    "        biggest_mask = i+1\n",
    "    elif current_area > second_biggest_area:\n",
    "        second_biggest_area = current_area\n",
    "        second_biggest_mask = i+1\n",
    "        \n",
    "# 0 = none, 1 = red, 2 = green, 3 = blue, 4 = yellow\n",
    "if biggest_area < second_biggest_area*1.2: # arbitary\n",
    "    print(biggest_mask, second_biggest_mask)\n",
    "else: \n",
    "    print(biggest_mask)"
   ]
  }
 ],
 "metadata": {
  "kernelspec": {
   "display_name": "Python 3",
   "language": "python",
   "name": "python3"
  },
  "language_info": {
   "codemirror_mode": {
    "name": "ipython",
    "version": 3
   },
   "file_extension": ".py",
   "mimetype": "text/x-python",
   "name": "python",
   "nbconvert_exporter": "python",
   "pygments_lexer": "ipython3",
   "version": "3.7.4"
  }
 },
 "nbformat": 4,
 "nbformat_minor": 2
}
